{
 "cells": [
  {
   "cell_type": "code",
   "execution_count": 1,
   "metadata": {},
   "outputs": [],
   "source": [
    "import numpy as np\n",
    "import pandas as pd\n",
    "import re \n",
    "import nltk\n",
    "import os"
   ]
  },
  {
   "cell_type": "markdown",
   "metadata": {},
   "source": [
    "# Part 1 Q1 Import and analyse the data set"
   ]
  },
  {
   "cell_type": "code",
   "execution_count": 2,
   "metadata": {},
   "outputs": [
    {
     "data": {
      "text/html": [
       "<div>\n",
       "<style scoped>\n",
       "    .dataframe tbody tr th:only-of-type {\n",
       "        vertical-align: middle;\n",
       "    }\n",
       "\n",
       "    .dataframe tbody tr th {\n",
       "        vertical-align: top;\n",
       "    }\n",
       "\n",
       "    .dataframe thead th {\n",
       "        text-align: right;\n",
       "    }\n",
       "</style>\n",
       "<table border=\"1\" class=\"dataframe\">\n",
       "  <thead>\n",
       "    <tr style=\"text-align: right;\">\n",
       "      <th></th>\n",
       "      <th>id</th>\n",
       "      <th>gender</th>\n",
       "      <th>age</th>\n",
       "      <th>topic</th>\n",
       "      <th>sign</th>\n",
       "      <th>date</th>\n",
       "      <th>text</th>\n",
       "    </tr>\n",
       "  </thead>\n",
       "  <tbody>\n",
       "    <tr>\n",
       "      <th>0</th>\n",
       "      <td>2059027</td>\n",
       "      <td>male</td>\n",
       "      <td>15</td>\n",
       "      <td>Student</td>\n",
       "      <td>Leo</td>\n",
       "      <td>14,May,2004</td>\n",
       "      <td>Info has been found (+/- 100 pages,...</td>\n",
       "    </tr>\n",
       "    <tr>\n",
       "      <th>1</th>\n",
       "      <td>2059027</td>\n",
       "      <td>male</td>\n",
       "      <td>15</td>\n",
       "      <td>Student</td>\n",
       "      <td>Leo</td>\n",
       "      <td>13,May,2004</td>\n",
       "      <td>These are the team members:   Drewe...</td>\n",
       "    </tr>\n",
       "    <tr>\n",
       "      <th>2</th>\n",
       "      <td>2059027</td>\n",
       "      <td>male</td>\n",
       "      <td>15</td>\n",
       "      <td>Student</td>\n",
       "      <td>Leo</td>\n",
       "      <td>12,May,2004</td>\n",
       "      <td>In het kader van kernfusie op aarde...</td>\n",
       "    </tr>\n",
       "    <tr>\n",
       "      <th>3</th>\n",
       "      <td>2059027</td>\n",
       "      <td>male</td>\n",
       "      <td>15</td>\n",
       "      <td>Student</td>\n",
       "      <td>Leo</td>\n",
       "      <td>12,May,2004</td>\n",
       "      <td>testing!!!  testing!!!</td>\n",
       "    </tr>\n",
       "    <tr>\n",
       "      <th>4</th>\n",
       "      <td>3581210</td>\n",
       "      <td>male</td>\n",
       "      <td>33</td>\n",
       "      <td>InvestmentBanking</td>\n",
       "      <td>Aquarius</td>\n",
       "      <td>11,June,2004</td>\n",
       "      <td>Thanks to Yahoo!'s Toolbar I can ...</td>\n",
       "    </tr>\n",
       "  </tbody>\n",
       "</table>\n",
       "</div>"
      ],
      "text/plain": [
       "        id gender  age              topic      sign          date  \\\n",
       "0  2059027   male   15            Student       Leo   14,May,2004   \n",
       "1  2059027   male   15            Student       Leo   13,May,2004   \n",
       "2  2059027   male   15            Student       Leo   12,May,2004   \n",
       "3  2059027   male   15            Student       Leo   12,May,2004   \n",
       "4  3581210   male   33  InvestmentBanking  Aquarius  11,June,2004   \n",
       "\n",
       "                                                text  \n",
       "0             Info has been found (+/- 100 pages,...  \n",
       "1             These are the team members:   Drewe...  \n",
       "2             In het kader van kernfusie op aarde...  \n",
       "3                   testing!!!  testing!!!            \n",
       "4               Thanks to Yahoo!'s Toolbar I can ...  "
      ]
     },
     "execution_count": 2,
     "metadata": {},
     "output_type": "execute_result"
    }
   ],
   "source": [
    "data=pd.read_csv(\"blogtext.csv\")\n",
    "data.head()"
   ]
  },
  {
   "cell_type": "markdown",
   "metadata": {},
   "source": [
    "### Checking for null values in dataset"
   ]
  },
  {
   "cell_type": "code",
   "execution_count": 3,
   "metadata": {},
   "outputs": [
    {
     "data": {
      "text/plain": [
       "id        False\n",
       "gender    False\n",
       "age       False\n",
       "topic     False\n",
       "sign      False\n",
       "date      False\n",
       "text      False\n",
       "dtype: bool"
      ]
     },
     "execution_count": 3,
     "metadata": {},
     "output_type": "execute_result"
    }
   ],
   "source": [
    "data.isna().any()\n"
   ]
  },
  {
   "cell_type": "markdown",
   "metadata": {},
   "source": [
    "#### There are no null values in the dataset"
   ]
  },
  {
   "cell_type": "code",
   "execution_count": 4,
   "metadata": {},
   "outputs": [
    {
     "data": {
      "text/plain": [
       "(681284, 7)"
      ]
     },
     "execution_count": 4,
     "metadata": {},
     "output_type": "execute_result"
    }
   ],
   "source": [
    "data.shape\n"
   ]
  },
  {
   "cell_type": "markdown",
   "metadata": {},
   "source": [
    "#### The dataset is very large, we can take fewer samples as our machine won't be able to handle this huge data."
   ]
  },
  {
   "cell_type": "code",
   "execution_count": 5,
   "metadata": {},
   "outputs": [],
   "source": [
    "data=data.head(10000)\n"
   ]
  },
  {
   "cell_type": "code",
   "execution_count": 6,
   "metadata": {},
   "outputs": [
    {
     "data": {
      "text/plain": [
       "(10000, 7)"
      ]
     },
     "execution_count": 6,
     "metadata": {},
     "output_type": "execute_result"
    }
   ],
   "source": [
    "data.shape"
   ]
  },
  {
   "cell_type": "code",
   "execution_count": 7,
   "metadata": {},
   "outputs": [
    {
     "name": "stdout",
     "output_type": "stream",
     "text": [
      "<class 'pandas.core.frame.DataFrame'>\n",
      "RangeIndex: 10000 entries, 0 to 9999\n",
      "Data columns (total 7 columns):\n",
      " #   Column  Non-Null Count  Dtype \n",
      "---  ------  --------------  ----- \n",
      " 0   id      10000 non-null  int64 \n",
      " 1   gender  10000 non-null  object\n",
      " 2   age     10000 non-null  int64 \n",
      " 3   topic   10000 non-null  object\n",
      " 4   sign    10000 non-null  object\n",
      " 5   date    10000 non-null  object\n",
      " 6   text    10000 non-null  object\n",
      "dtypes: int64(2), object(5)\n",
      "memory usage: 547.0+ KB\n"
     ]
    }
   ],
   "source": [
    "data.info()\n"
   ]
  },
  {
   "cell_type": "markdown",
   "metadata": {},
   "source": [
    "#### We can drop columns like id, and date as they won't help in model building. "
   ]
  },
  {
   "cell_type": "code",
   "execution_count": 8,
   "metadata": {},
   "outputs": [],
   "source": [
    "data.drop(['id','date'], axis=1, inplace=True)\n"
   ]
  },
  {
   "cell_type": "code",
   "execution_count": 9,
   "metadata": {},
   "outputs": [
    {
     "data": {
      "text/html": [
       "<div>\n",
       "<style scoped>\n",
       "    .dataframe tbody tr th:only-of-type {\n",
       "        vertical-align: middle;\n",
       "    }\n",
       "\n",
       "    .dataframe tbody tr th {\n",
       "        vertical-align: top;\n",
       "    }\n",
       "\n",
       "    .dataframe thead th {\n",
       "        text-align: right;\n",
       "    }\n",
       "</style>\n",
       "<table border=\"1\" class=\"dataframe\">\n",
       "  <thead>\n",
       "    <tr style=\"text-align: right;\">\n",
       "      <th></th>\n",
       "      <th>gender</th>\n",
       "      <th>age</th>\n",
       "      <th>topic</th>\n",
       "      <th>sign</th>\n",
       "      <th>text</th>\n",
       "    </tr>\n",
       "  </thead>\n",
       "  <tbody>\n",
       "    <tr>\n",
       "      <th>0</th>\n",
       "      <td>male</td>\n",
       "      <td>15</td>\n",
       "      <td>Student</td>\n",
       "      <td>Leo</td>\n",
       "      <td>Info has been found (+/- 100 pages,...</td>\n",
       "    </tr>\n",
       "    <tr>\n",
       "      <th>1</th>\n",
       "      <td>male</td>\n",
       "      <td>15</td>\n",
       "      <td>Student</td>\n",
       "      <td>Leo</td>\n",
       "      <td>These are the team members:   Drewe...</td>\n",
       "    </tr>\n",
       "    <tr>\n",
       "      <th>2</th>\n",
       "      <td>male</td>\n",
       "      <td>15</td>\n",
       "      <td>Student</td>\n",
       "      <td>Leo</td>\n",
       "      <td>In het kader van kernfusie op aarde...</td>\n",
       "    </tr>\n",
       "    <tr>\n",
       "      <th>3</th>\n",
       "      <td>male</td>\n",
       "      <td>15</td>\n",
       "      <td>Student</td>\n",
       "      <td>Leo</td>\n",
       "      <td>testing!!!  testing!!!</td>\n",
       "    </tr>\n",
       "    <tr>\n",
       "      <th>4</th>\n",
       "      <td>male</td>\n",
       "      <td>33</td>\n",
       "      <td>InvestmentBanking</td>\n",
       "      <td>Aquarius</td>\n",
       "      <td>Thanks to Yahoo!'s Toolbar I can ...</td>\n",
       "    </tr>\n",
       "    <tr>\n",
       "      <th>5</th>\n",
       "      <td>male</td>\n",
       "      <td>33</td>\n",
       "      <td>InvestmentBanking</td>\n",
       "      <td>Aquarius</td>\n",
       "      <td>I had an interesting conversation...</td>\n",
       "    </tr>\n",
       "    <tr>\n",
       "      <th>6</th>\n",
       "      <td>male</td>\n",
       "      <td>33</td>\n",
       "      <td>InvestmentBanking</td>\n",
       "      <td>Aquarius</td>\n",
       "      <td>Somehow Coca-Cola has a way of su...</td>\n",
       "    </tr>\n",
       "    <tr>\n",
       "      <th>7</th>\n",
       "      <td>male</td>\n",
       "      <td>33</td>\n",
       "      <td>InvestmentBanking</td>\n",
       "      <td>Aquarius</td>\n",
       "      <td>If anything, Korea is a country o...</td>\n",
       "    </tr>\n",
       "    <tr>\n",
       "      <th>8</th>\n",
       "      <td>male</td>\n",
       "      <td>33</td>\n",
       "      <td>InvestmentBanking</td>\n",
       "      <td>Aquarius</td>\n",
       "      <td>Take a read of this news article ...</td>\n",
       "    </tr>\n",
       "    <tr>\n",
       "      <th>9</th>\n",
       "      <td>male</td>\n",
       "      <td>33</td>\n",
       "      <td>InvestmentBanking</td>\n",
       "      <td>Aquarius</td>\n",
       "      <td>I surf the English news sites a l...</td>\n",
       "    </tr>\n",
       "  </tbody>\n",
       "</table>\n",
       "</div>"
      ],
      "text/plain": [
       "  gender  age              topic      sign  \\\n",
       "0   male   15            Student       Leo   \n",
       "1   male   15            Student       Leo   \n",
       "2   male   15            Student       Leo   \n",
       "3   male   15            Student       Leo   \n",
       "4   male   33  InvestmentBanking  Aquarius   \n",
       "5   male   33  InvestmentBanking  Aquarius   \n",
       "6   male   33  InvestmentBanking  Aquarius   \n",
       "7   male   33  InvestmentBanking  Aquarius   \n",
       "8   male   33  InvestmentBanking  Aquarius   \n",
       "9   male   33  InvestmentBanking  Aquarius   \n",
       "\n",
       "                                                text  \n",
       "0             Info has been found (+/- 100 pages,...  \n",
       "1             These are the team members:   Drewe...  \n",
       "2             In het kader van kernfusie op aarde...  \n",
       "3                   testing!!!  testing!!!            \n",
       "4               Thanks to Yahoo!'s Toolbar I can ...  \n",
       "5               I had an interesting conversation...  \n",
       "6               Somehow Coca-Cola has a way of su...  \n",
       "7               If anything, Korea is a country o...  \n",
       "8               Take a read of this news article ...  \n",
       "9               I surf the English news sites a l...  "
      ]
     },
     "execution_count": 9,
     "metadata": {},
     "output_type": "execute_result"
    }
   ],
   "source": [
    "data.head(10)"
   ]
  },
  {
   "cell_type": "code",
   "execution_count": 10,
   "metadata": {},
   "outputs": [
    {
     "data": {
      "text/plain": [
       "gender    object\n",
       "age        int64\n",
       "topic     object\n",
       "sign      object\n",
       "text      object\n",
       "dtype: object"
      ]
     },
     "execution_count": 10,
     "metadata": {},
     "output_type": "execute_result"
    }
   ],
   "source": [
    "data.dtypes"
   ]
  },
  {
   "cell_type": "markdown",
   "metadata": {},
   "source": [
    "#### All the data types are object, except for age. We can change it to match the others."
   ]
  },
  {
   "cell_type": "code",
   "execution_count": 11,
   "metadata": {},
   "outputs": [],
   "source": [
    "data['age'] = data['age'].astype('object')"
   ]
  },
  {
   "cell_type": "code",
   "execution_count": 12,
   "metadata": {},
   "outputs": [
    {
     "name": "stdout",
     "output_type": "stream",
     "text": [
      "<class 'pandas.core.frame.DataFrame'>\n",
      "RangeIndex: 10000 entries, 0 to 9999\n",
      "Data columns (total 5 columns):\n",
      " #   Column  Non-Null Count  Dtype \n",
      "---  ------  --------------  ----- \n",
      " 0   gender  10000 non-null  object\n",
      " 1   age     10000 non-null  object\n",
      " 2   topic   10000 non-null  object\n",
      " 3   sign    10000 non-null  object\n",
      " 4   text    10000 non-null  object\n",
      "dtypes: object(5)\n",
      "memory usage: 390.8+ KB\n"
     ]
    }
   ],
   "source": [
    "data.info()"
   ]
  },
  {
   "cell_type": "markdown",
   "metadata": {},
   "source": [
    "# Part 1 Q2 Perform data pre-processing on the data:"
   ]
  },
  {
   "cell_type": "markdown",
   "metadata": {},
   "source": [
    "## •Data cleansing by removing unwanted characters, spaces, stop words etc."
   ]
  },
  {
   "cell_type": "code",
   "execution_count": 13,
   "metadata": {},
   "outputs": [],
   "source": [
    "data['text']=data['text'].apply(lambda x: re.sub(r'[^A-Za-z]+',' ',x))"
   ]
  },
  {
   "cell_type": "markdown",
   "metadata": {},
   "source": [
    "#### We have removed all the unwanted characters"
   ]
  },
  {
   "cell_type": "code",
   "execution_count": 14,
   "metadata": {},
   "outputs": [],
   "source": [
    "data['text']=data['text'].apply(lambda x: x.lower())"
   ]
  },
  {
   "cell_type": "markdown",
   "metadata": {},
   "source": [
    "#### We have converted all text to lower case"
   ]
  },
  {
   "cell_type": "code",
   "execution_count": 15,
   "metadata": {},
   "outputs": [],
   "source": [
    "data['text']=data['text'].apply(lambda x: x.strip())"
   ]
  },
  {
   "cell_type": "markdown",
   "metadata": {},
   "source": [
    "#### We have removed all the unwanted spaces"
   ]
  },
  {
   "cell_type": "code",
   "execution_count": 16,
   "metadata": {},
   "outputs": [],
   "source": [
    "from nltk.corpus import stopwords\n",
    "stopwords=set(stopwords.words('english'))"
   ]
  },
  {
   "cell_type": "code",
   "execution_count": 17,
   "metadata": {},
   "outputs": [],
   "source": [
    "data['text']=data['text'].apply(lambda x: ' '.join([words for words in x.split() if words not in stopwords]))"
   ]
  },
  {
   "cell_type": "markdown",
   "metadata": {},
   "source": [
    "#### We have removed all the stopwords"
   ]
  },
  {
   "cell_type": "markdown",
   "metadata": {},
   "source": [
    "# Part 1 Q3 Design, train, tune and test the best text classifier."
   ]
  },
  {
   "cell_type": "markdown",
   "metadata": {},
   "source": [
    "#### To design the model, first we have to merge all the labels into one as we are dealing with a multilabel problem."
   ]
  },
  {
   "cell_type": "code",
   "execution_count": 18,
   "metadata": {},
   "outputs": [],
   "source": [
    "data['labels']=data.apply(lambda col: [col['gender'],str(col['age']),col['topic'],col['sign']], axis=1)"
   ]
  },
  {
   "cell_type": "code",
   "execution_count": 19,
   "metadata": {},
   "outputs": [
    {
     "data": {
      "text/html": [
       "<div>\n",
       "<style scoped>\n",
       "    .dataframe tbody tr th:only-of-type {\n",
       "        vertical-align: middle;\n",
       "    }\n",
       "\n",
       "    .dataframe tbody tr th {\n",
       "        vertical-align: top;\n",
       "    }\n",
       "\n",
       "    .dataframe thead th {\n",
       "        text-align: right;\n",
       "    }\n",
       "</style>\n",
       "<table border=\"1\" class=\"dataframe\">\n",
       "  <thead>\n",
       "    <tr style=\"text-align: right;\">\n",
       "      <th></th>\n",
       "      <th>gender</th>\n",
       "      <th>age</th>\n",
       "      <th>topic</th>\n",
       "      <th>sign</th>\n",
       "      <th>text</th>\n",
       "      <th>labels</th>\n",
       "    </tr>\n",
       "  </thead>\n",
       "  <tbody>\n",
       "    <tr>\n",
       "      <th>0</th>\n",
       "      <td>male</td>\n",
       "      <td>15</td>\n",
       "      <td>Student</td>\n",
       "      <td>Leo</td>\n",
       "      <td>info found pages mb pdf files wait untill team...</td>\n",
       "      <td>[male, 15, Student, Leo]</td>\n",
       "    </tr>\n",
       "    <tr>\n",
       "      <th>1</th>\n",
       "      <td>male</td>\n",
       "      <td>15</td>\n",
       "      <td>Student</td>\n",
       "      <td>Leo</td>\n",
       "      <td>team members drewes van der laag urllink mail ...</td>\n",
       "      <td>[male, 15, Student, Leo]</td>\n",
       "    </tr>\n",
       "    <tr>\n",
       "      <th>2</th>\n",
       "      <td>male</td>\n",
       "      <td>15</td>\n",
       "      <td>Student</td>\n",
       "      <td>Leo</td>\n",
       "      <td>het kader van kernfusie op aarde maak je eigen...</td>\n",
       "      <td>[male, 15, Student, Leo]</td>\n",
       "    </tr>\n",
       "    <tr>\n",
       "      <th>3</th>\n",
       "      <td>male</td>\n",
       "      <td>15</td>\n",
       "      <td>Student</td>\n",
       "      <td>Leo</td>\n",
       "      <td>testing testing</td>\n",
       "      <td>[male, 15, Student, Leo]</td>\n",
       "    </tr>\n",
       "    <tr>\n",
       "      <th>4</th>\n",
       "      <td>male</td>\n",
       "      <td>33</td>\n",
       "      <td>InvestmentBanking</td>\n",
       "      <td>Aquarius</td>\n",
       "      <td>thanks yahoo toolbar capture urls popups means...</td>\n",
       "      <td>[male, 33, InvestmentBanking, Aquarius]</td>\n",
       "    </tr>\n",
       "  </tbody>\n",
       "</table>\n",
       "</div>"
      ],
      "text/plain": [
       "  gender age              topic      sign  \\\n",
       "0   male  15            Student       Leo   \n",
       "1   male  15            Student       Leo   \n",
       "2   male  15            Student       Leo   \n",
       "3   male  15            Student       Leo   \n",
       "4   male  33  InvestmentBanking  Aquarius   \n",
       "\n",
       "                                                text  \\\n",
       "0  info found pages mb pdf files wait untill team...   \n",
       "1  team members drewes van der laag urllink mail ...   \n",
       "2  het kader van kernfusie op aarde maak je eigen...   \n",
       "3                                    testing testing   \n",
       "4  thanks yahoo toolbar capture urls popups means...   \n",
       "\n",
       "                                    labels  \n",
       "0                 [male, 15, Student, Leo]  \n",
       "1                 [male, 15, Student, Leo]  \n",
       "2                 [male, 15, Student, Leo]  \n",
       "3                 [male, 15, Student, Leo]  \n",
       "4  [male, 33, InvestmentBanking, Aquarius]  "
      ]
     },
     "execution_count": 19,
     "metadata": {},
     "output_type": "execute_result"
    }
   ],
   "source": [
    "data.head()"
   ]
  },
  {
   "cell_type": "markdown",
   "metadata": {},
   "source": [
    "#### We have created a new column 'labels' where we have merged all the labels. We can now remove gender, age, topic, and sign columns. "
   ]
  },
  {
   "cell_type": "code",
   "execution_count": 20,
   "metadata": {},
   "outputs": [],
   "source": [
    "data=data[['text','labels']]\n"
   ]
  },
  {
   "cell_type": "code",
   "execution_count": 21,
   "metadata": {},
   "outputs": [
    {
     "data": {
      "text/html": [
       "<div>\n",
       "<style scoped>\n",
       "    .dataframe tbody tr th:only-of-type {\n",
       "        vertical-align: middle;\n",
       "    }\n",
       "\n",
       "    .dataframe tbody tr th {\n",
       "        vertical-align: top;\n",
       "    }\n",
       "\n",
       "    .dataframe thead th {\n",
       "        text-align: right;\n",
       "    }\n",
       "</style>\n",
       "<table border=\"1\" class=\"dataframe\">\n",
       "  <thead>\n",
       "    <tr style=\"text-align: right;\">\n",
       "      <th></th>\n",
       "      <th>text</th>\n",
       "      <th>labels</th>\n",
       "    </tr>\n",
       "  </thead>\n",
       "  <tbody>\n",
       "    <tr>\n",
       "      <th>0</th>\n",
       "      <td>info found pages mb pdf files wait untill team...</td>\n",
       "      <td>[male, 15, Student, Leo]</td>\n",
       "    </tr>\n",
       "    <tr>\n",
       "      <th>1</th>\n",
       "      <td>team members drewes van der laag urllink mail ...</td>\n",
       "      <td>[male, 15, Student, Leo]</td>\n",
       "    </tr>\n",
       "    <tr>\n",
       "      <th>2</th>\n",
       "      <td>het kader van kernfusie op aarde maak je eigen...</td>\n",
       "      <td>[male, 15, Student, Leo]</td>\n",
       "    </tr>\n",
       "    <tr>\n",
       "      <th>3</th>\n",
       "      <td>testing testing</td>\n",
       "      <td>[male, 15, Student, Leo]</td>\n",
       "    </tr>\n",
       "    <tr>\n",
       "      <th>4</th>\n",
       "      <td>thanks yahoo toolbar capture urls popups means...</td>\n",
       "      <td>[male, 33, InvestmentBanking, Aquarius]</td>\n",
       "    </tr>\n",
       "  </tbody>\n",
       "</table>\n",
       "</div>"
      ],
      "text/plain": [
       "                                                text  \\\n",
       "0  info found pages mb pdf files wait untill team...   \n",
       "1  team members drewes van der laag urllink mail ...   \n",
       "2  het kader van kernfusie op aarde maak je eigen...   \n",
       "3                                    testing testing   \n",
       "4  thanks yahoo toolbar capture urls popups means...   \n",
       "\n",
       "                                    labels  \n",
       "0                 [male, 15, Student, Leo]  \n",
       "1                 [male, 15, Student, Leo]  \n",
       "2                 [male, 15, Student, Leo]  \n",
       "3                 [male, 15, Student, Leo]  \n",
       "4  [male, 33, InvestmentBanking, Aquarius]  "
      ]
     },
     "execution_count": 21,
     "metadata": {},
     "output_type": "execute_result"
    }
   ],
   "source": [
    "data.head()"
   ]
  },
  {
   "cell_type": "markdown",
   "metadata": {},
   "source": [
    "### We now have the data ready to build the model. We will now split the data into X, and Y. "
   ]
  },
  {
   "cell_type": "code",
   "execution_count": 22,
   "metadata": {},
   "outputs": [],
   "source": [
    "X=data['text']\n",
    "y=data['labels']\n"
   ]
  },
  {
   "cell_type": "code",
   "execution_count": 23,
   "metadata": {},
   "outputs": [],
   "source": [
    "from sklearn.feature_extraction.text import CountVectorizer\n"
   ]
  },
  {
   "cell_type": "code",
   "execution_count": 24,
   "metadata": {},
   "outputs": [],
   "source": [
    "vectorizer=CountVectorizer(binary=True, ngram_range=(1,2))\n"
   ]
  },
  {
   "cell_type": "code",
   "execution_count": 25,
   "metadata": {},
   "outputs": [],
   "source": [
    "X=vectorizer.fit_transform(X)\n"
   ]
  },
  {
   "cell_type": "code",
   "execution_count": 26,
   "metadata": {},
   "outputs": [
    {
     "data": {
      "text/plain": [
       "<1x643302 sparse matrix of type '<class 'numpy.int64'>'\n",
       "\twith 25 stored elements in Compressed Sparse Row format>"
      ]
     },
     "execution_count": 26,
     "metadata": {},
     "output_type": "execute_result"
    }
   ],
   "source": [
    "X[1]"
   ]
  },
  {
   "cell_type": "code",
   "execution_count": 27,
   "metadata": {},
   "outputs": [
    {
     "data": {
      "text/plain": [
       "['aa',\n",
       " 'aa amazing',\n",
       " 'aa anger',\n",
       " 'aa compared',\n",
       " 'aa keeps',\n",
       " 'aa nice',\n",
       " 'aa sd',\n",
       " 'aaa',\n",
       " 'aaa come',\n",
       " 'aaa discount']"
      ]
     },
     "execution_count": 27,
     "metadata": {},
     "output_type": "execute_result"
    }
   ],
   "source": [
    "vectorizer.get_feature_names()[:10]\n"
   ]
  },
  {
   "cell_type": "code",
   "execution_count": 28,
   "metadata": {},
   "outputs": [],
   "source": [
    "label_counts=dict()\n",
    "\n",
    "for labels in data.labels.values:\n",
    "    for label in labels:\n",
    "        if label in label_counts:\n",
    "            label_counts[label]+=1\n",
    "        else:\n",
    "            label_counts[label]=1"
   ]
  },
  {
   "cell_type": "code",
   "execution_count": 29,
   "metadata": {},
   "outputs": [
    {
     "data": {
      "text/plain": [
       "{'male': 5916,\n",
       " '15': 602,\n",
       " 'Student': 1137,\n",
       " 'Leo': 301,\n",
       " '33': 136,\n",
       " 'InvestmentBanking': 70,\n",
       " 'Aquarius': 571,\n",
       " 'female': 4084,\n",
       " '14': 212,\n",
       " 'indUnk': 3287,\n",
       " 'Aries': 4198,\n",
       " '25': 386,\n",
       " 'Capricorn': 215,\n",
       " '17': 1185,\n",
       " 'Gemini': 150,\n",
       " '23': 253,\n",
       " 'Non-Profit': 71,\n",
       " 'Cancer': 504,\n",
       " 'Banking': 16,\n",
       " '37': 33,\n",
       " 'Sagittarius': 1097,\n",
       " '26': 234,\n",
       " '24': 655,\n",
       " 'Scorpio': 971,\n",
       " '27': 1054,\n",
       " 'Education': 270,\n",
       " '45': 16,\n",
       " 'Engineering': 127,\n",
       " 'Libra': 491,\n",
       " 'Science': 63,\n",
       " '34': 553,\n",
       " '41': 20,\n",
       " 'Communications-Media': 99,\n",
       " 'BusinessServices': 91,\n",
       " 'Sports-Recreation': 80,\n",
       " 'Virgo': 236,\n",
       " 'Taurus': 812,\n",
       " 'Arts': 45,\n",
       " 'Pisces': 454,\n",
       " '44': 3,\n",
       " '16': 440,\n",
       " 'Internet': 118,\n",
       " 'Museums-Libraries': 17,\n",
       " 'Accounting': 4,\n",
       " '39': 79,\n",
       " '35': 2315,\n",
       " 'Technology': 2654,\n",
       " '36': 1708,\n",
       " 'Law': 11,\n",
       " '46': 7,\n",
       " 'Consulting': 21,\n",
       " 'Automotive': 14,\n",
       " '42': 14,\n",
       " 'Religion': 9,\n",
       " '13': 42,\n",
       " 'Fashion': 1622,\n",
       " '38': 46,\n",
       " '43': 6,\n",
       " 'Publishing': 4,\n",
       " '40': 1,\n",
       " 'Marketing': 156,\n",
       " 'LawEnforcement-Security': 10,\n",
       " 'HumanResources': 2,\n",
       " 'Telecommunications': 2}"
      ]
     },
     "execution_count": 29,
     "metadata": {},
     "output_type": "execute_result"
    }
   ],
   "source": [
    "label_counts"
   ]
  },
  {
   "cell_type": "markdown",
   "metadata": {},
   "source": [
    "### We need multibinarizer for this problem. "
   ]
  },
  {
   "cell_type": "code",
   "execution_count": 30,
   "metadata": {},
   "outputs": [],
   "source": [
    "from sklearn.preprocessing import MultiLabelBinarizer\n",
    "binarizer=MultiLabelBinarizer(classes=sorted(label_counts.keys()))"
   ]
  },
  {
   "cell_type": "code",
   "execution_count": 31,
   "metadata": {},
   "outputs": [],
   "source": [
    "Y=binarizer.fit_transform(data.labels)\n"
   ]
  },
  {
   "cell_type": "markdown",
   "metadata": {},
   "source": [
    "### Splitting the data into training and testing"
   ]
  },
  {
   "cell_type": "code",
   "execution_count": 32,
   "metadata": {},
   "outputs": [],
   "source": [
    "from sklearn.model_selection import train_test_split\n",
    "Xtrain,Xtest,Ytrain,Ytest=train_test_split(X,Y,test_size=0.2)\n"
   ]
  },
  {
   "cell_type": "code",
   "execution_count": 33,
   "metadata": {},
   "outputs": [],
   "source": [
    "from sklearn.multiclass import OneVsRestClassifier\n",
    "from sklearn.linear_model import LogisticRegression"
   ]
  },
  {
   "cell_type": "markdown",
   "metadata": {},
   "source": [
    "### Creating LogisticsRegression classifier model"
   ]
  },
  {
   "cell_type": "code",
   "execution_count": 34,
   "metadata": {},
   "outputs": [],
   "source": [
    "model=LogisticRegression(solver='lbfgs')\n",
    "model=OneVsRestClassifier(model)"
   ]
  },
  {
   "cell_type": "code",
   "execution_count": 35,
   "metadata": {},
   "outputs": [
    {
     "data": {
      "text/plain": [
       "OneVsRestClassifier(estimator=LogisticRegression())"
      ]
     },
     "execution_count": 35,
     "metadata": {},
     "output_type": "execute_result"
    }
   ],
   "source": [
    "model.fit(Xtrain,Ytrain)\n"
   ]
  },
  {
   "cell_type": "code",
   "execution_count": 36,
   "metadata": {},
   "outputs": [],
   "source": [
    "Ypred=model.predict(Xtest)\n"
   ]
  },
  {
   "cell_type": "code",
   "execution_count": 37,
   "metadata": {},
   "outputs": [],
   "source": [
    "Ypred_inversed = binarizer.inverse_transform(Ypred)\n",
    "y_test_inversed = binarizer.inverse_transform(Ytest)"
   ]
  },
  {
   "cell_type": "code",
   "execution_count": 38,
   "metadata": {},
   "outputs": [
    {
     "name": "stdout",
     "output_type": "stream",
     "text": [
      "Text:\t  (0, 203034)\t1\n",
      "  (0, 593438)\t1\n",
      "  (0, 312628)\t1\n",
      "  (0, 22273)\t1\n",
      "  (0, 100151)\t1\n",
      "  (0, 3589)\t1\n",
      "  (0, 529247)\t1\n",
      "  (0, 170072)\t1\n",
      "  (0, 440127)\t1\n",
      "  (0, 225036)\t1\n",
      "  (0, 504728)\t1\n",
      "  (0, 363386)\t1\n",
      "  (0, 225428)\t1\n",
      "  (0, 118891)\t1\n",
      "  (0, 616967)\t1\n",
      "  (0, 425391)\t1\n",
      "  (0, 580466)\t1\n",
      "  (0, 204735)\t1\n",
      "  (0, 258888)\t1\n",
      "  (0, 497999)\t1\n",
      "  (0, 317556)\t1\n",
      "  (0, 2199)\t1\n",
      "  (0, 115186)\t1\n",
      "  (0, 302431)\t1\n",
      "  (0, 559031)\t1\n",
      "  :\t:\n",
      "  (0, 559337)\t1\n",
      "  (0, 529668)\t1\n",
      "  (0, 272374)\t1\n",
      "  (0, 107826)\t1\n",
      "  (0, 374610)\t1\n",
      "  (0, 505013)\t1\n",
      "  (0, 580687)\t1\n",
      "  (0, 124834)\t1\n",
      "  (0, 80361)\t1\n",
      "  (0, 23286)\t1\n",
      "  (0, 68583)\t1\n",
      "  (0, 521263)\t1\n",
      "  (0, 512856)\t1\n",
      "  (0, 313172)\t1\n",
      "  (0, 109603)\t1\n",
      "  (0, 34907)\t1\n",
      "  (0, 455571)\t1\n",
      "  (0, 259165)\t1\n",
      "  (0, 205082)\t1\n",
      "  (0, 578939)\t1\n",
      "  (0, 145598)\t1\n",
      "  (0, 504941)\t1\n",
      "  (0, 436363)\t1\n",
      "  (0, 22399)\t1\n",
      "  (0, 543981)\t1\n",
      "True labels:\t27,Education,Virgo,male\n",
      "Predicted labels:\tmale\n",
      "\n",
      "\n",
      "Text:\t  (0, 555727)\t1\n",
      "  (0, 54084)\t1\n",
      "  (0, 570626)\t1\n",
      "  (0, 571580)\t1\n",
      "  (0, 555751)\t1\n",
      "True labels:\t26,Gemini,indUnk,male\n",
      "Predicted labels:\tAries,male\n",
      "\n",
      "\n",
      "Text:\t  (0, 593438)\t1\n",
      "  (0, 205401)\t1\n",
      "  (0, 597566)\t1\n",
      "  (0, 388230)\t1\n",
      "  (0, 194964)\t1\n",
      "  (0, 574978)\t1\n",
      "  (0, 387223)\t1\n",
      "  (0, 279343)\t1\n",
      "  (0, 479313)\t1\n",
      "  (0, 594119)\t1\n",
      "  (0, 473028)\t1\n",
      "  (0, 269427)\t1\n",
      "  (0, 463565)\t1\n",
      "  (0, 402091)\t1\n",
      "  (0, 352502)\t1\n",
      "  (0, 145571)\t1\n",
      "  (0, 306537)\t1\n",
      "  (0, 66364)\t1\n",
      "  (0, 394720)\t1\n",
      "  (0, 278501)\t1\n",
      "  (0, 265448)\t1\n",
      "  (0, 473043)\t1\n",
      "  (0, 278507)\t1\n",
      "  (0, 388284)\t1\n",
      "  (0, 195473)\t1\n",
      "  (0, 402111)\t1\n",
      "  (0, 479396)\t1\n",
      "  (0, 145595)\t1\n",
      "  (0, 265467)\t1\n",
      "  (0, 352520)\t1\n",
      "  (0, 463596)\t1\n",
      "  (0, 597837)\t1\n",
      "  (0, 388238)\t1\n",
      "  (0, 66369)\t1\n",
      "  (0, 575087)\t1\n",
      "  (0, 205488)\t1\n",
      "  (0, 387240)\t1\n",
      "  (0, 394723)\t1\n",
      "  (0, 269430)\t1\n",
      "  (0, 306565)\t1\n",
      "True labels:\t27,Taurus,female,indUnk\n",
      "Predicted labels:\t35,Aries,Technology,male\n",
      "\n",
      "\n",
      "Text:\t  (0, 319058)\t1\n",
      "  (0, 608783)\t1\n",
      "  (0, 608975)\t1\n",
      "  (0, 578469)\t1\n",
      "  (0, 541965)\t1\n",
      "  (0, 581831)\t1\n",
      "  (0, 192891)\t1\n",
      "  (0, 632385)\t1\n",
      "  (0, 597026)\t1\n",
      "  (0, 567161)\t1\n",
      "  (0, 403052)\t1\n",
      "  (0, 611860)\t1\n",
      "  (0, 584413)\t1\n",
      "  (0, 513546)\t1\n",
      "  (0, 409)\t1\n",
      "  (0, 465207)\t1\n",
      "  (0, 87581)\t1\n",
      "  (0, 505563)\t1\n",
      "  (0, 27587)\t1\n",
      "  (0, 179224)\t1\n",
      "  (0, 419632)\t1\n",
      "  (0, 520969)\t1\n",
      "  (0, 422863)\t1\n",
      "  (0, 583217)\t1\n",
      "  (0, 171859)\t1\n",
      "  :\t:\n",
      "  (0, 608870)\t1\n",
      "  (0, 295689)\t1\n",
      "  (0, 254555)\t1\n",
      "  (0, 347932)\t1\n",
      "  (0, 279364)\t1\n",
      "  (0, 489524)\t1\n",
      "  (0, 581413)\t1\n",
      "  (0, 406778)\t1\n",
      "  (0, 505612)\t1\n",
      "  (0, 358504)\t1\n",
      "  (0, 578545)\t1\n",
      "  (0, 567661)\t1\n",
      "  (0, 179325)\t1\n",
      "  (0, 581428)\t1\n",
      "  (0, 563854)\t1\n",
      "  (0, 423301)\t1\n",
      "  (0, 572630)\t1\n",
      "  (0, 149642)\t1\n",
      "  (0, 386305)\t1\n",
      "  (0, 403526)\t1\n",
      "  (0, 568697)\t1\n",
      "  (0, 559022)\t1\n",
      "  (0, 26939)\t1\n",
      "  (0, 541352)\t1\n",
      "  (0, 559414)\t1\n",
      "True labels:\t26,Leo,indUnk,male\n",
      "Predicted labels:\tfemale\n",
      "\n",
      "\n",
      "Text:\t  (0, 312628)\t1\n",
      "  (0, 52528)\t1\n",
      "  (0, 541965)\t1\n",
      "  (0, 450189)\t1\n",
      "  (0, 564667)\t1\n",
      "  (0, 229515)\t1\n",
      "  (0, 602834)\t1\n",
      "  (0, 31409)\t1\n",
      "  (0, 562615)\t1\n",
      "  (0, 465207)\t1\n",
      "  (0, 383916)\t1\n",
      "  (0, 310781)\t1\n",
      "  (0, 2839)\t1\n",
      "  (0, 227615)\t1\n",
      "  (0, 20393)\t1\n",
      "  (0, 628568)\t1\n",
      "  (0, 457794)\t1\n",
      "  (0, 558082)\t1\n",
      "  (0, 363386)\t1\n",
      "  (0, 225428)\t1\n",
      "  (0, 343748)\t1\n",
      "  (0, 337957)\t1\n",
      "  (0, 541451)\t1\n",
      "  (0, 543017)\t1\n",
      "  (0, 176256)\t1\n",
      "  :\t:\n",
      "  (0, 573651)\t1\n",
      "  (0, 541535)\t1\n",
      "  (0, 493511)\t1\n",
      "  (0, 103141)\t1\n",
      "  (0, 163257)\t1\n",
      "  (0, 466044)\t1\n",
      "  (0, 543122)\t1\n",
      "  (0, 153915)\t1\n",
      "  (0, 408679)\t1\n",
      "  (0, 180396)\t1\n",
      "  (0, 548011)\t1\n",
      "  (0, 558987)\t1\n",
      "  (0, 635345)\t1\n",
      "  (0, 10951)\t1\n",
      "  (0, 564810)\t1\n",
      "  (0, 628644)\t1\n",
      "  (0, 36841)\t1\n",
      "  (0, 537942)\t1\n",
      "  (0, 176260)\t1\n",
      "  (0, 262906)\t1\n",
      "  (0, 270309)\t1\n",
      "  (0, 409484)\t1\n",
      "  (0, 554819)\t1\n",
      "  (0, 284532)\t1\n",
      "  (0, 201000)\t1\n",
      "True labels:\t16,Capricorn,female,indUnk\n",
      "Predicted labels:\tfemale,indUnk\n",
      "\n",
      "\n"
     ]
    }
   ],
   "source": [
    "for i in range(5):\n",
    "    print('Text:\\t{}\\nTrue labels:\\t{}\\nPredicted labels:\\t{}\\n\\n'.format(\n",
    "        Xtest[i],\n",
    "        ','.join(y_test_inversed[i]),\n",
    "        ','.join(Ypred_inversed[i])\n",
    "    ))"
   ]
  },
  {
   "cell_type": "markdown",
   "metadata": {},
   "source": [
    "### Building a function to show accuracy score, f1 score, aps, and recall"
   ]
  },
  {
   "cell_type": "code",
   "execution_count": 39,
   "metadata": {},
   "outputs": [],
   "source": [
    "from sklearn.metrics import accuracy_score\n",
    "from sklearn.metrics import f1_score\n",
    "from sklearn.metrics import average_precision_score\n",
    "from sklearn.metrics import recall_score\n",
    "\n",
    "def print_evaluation_scores(Ytest, Ypred):\n",
    "    print('Accuracy score: ', accuracy_score(Ytest, Ypred))\n",
    "    print('F1 score: ', f1_score(Ytest, Ypred, average='micro'))\n",
    "    print('Average precision score: ', average_precision_score(Ytest, Ypred, average='micro'))\n",
    "    print('Average recall score: ', recall_score(Ytest, Ypred, average='micro'))"
   ]
  },
  {
   "cell_type": "code",
   "execution_count": 40,
   "metadata": {},
   "outputs": [
    {
     "name": "stdout",
     "output_type": "stream",
     "text": [
      "Accuracy score:  0.3175\n",
      "F1 score:  0.6347557763227214\n",
      "Average precision score:  0.4499984410464346\n",
      "Average recall score:  0.527125\n"
     ]
    }
   ],
   "source": [
    "print_evaluation_scores(Ytest, Ypred)\n"
   ]
  },
  {
   "cell_type": "code",
   "execution_count": 41,
   "metadata": {},
   "outputs": [
    {
     "name": "stdout",
     "output_type": "stream",
     "text": [
      "XXXXXXXXXXXXXXXXXXXXXXXXXXXXXXXXXXXXXXXXXXXXXXXXXXXXXXXXXXXXXXXXXXXXXXXXXXXXXXXXXXXXXXXXXXXXXXXXXXXXXXXXXXXXXXXXXXXXXXXXXXXXXXXXXXXXXXXXXXXXXXXXXXXXXXXXXXXXXXXXXXXXXXXXXXXXXXXXXXXXXXXXXXXXXXXXXXXXXXXXXXXXXXXXXXXXXXXXXXXXXXXXXXXXXXXXXXXXXXXXXXXXXXXXXXXXXXXXXXXXXXXXXXXXXXXXXXXXXXXXXXXXXXXXXXXXXXXXXXXXXXXXXXXXXXXXXXXXXXXXXXXXXXXXXXXXXXXXXXXXXXXXXXXXXXXXXXXXXXXXXXXXXXXXXXXXXXXXXXXXXXXXXXXXXXXXXXXXXXXXXXXXXXXXXXXXXXXXXXXXXXXXXXXXXXXXXXXXXXXXXXXXXXXXXXXXXXXXXXXXXXXXXXXXXXXXXXXXXXXXXXXXXXXXXXXXXXXXXXXXXXXXXXXXXXXXXXXXXXXXXXXXXXXXXXXXXXXXXXXXXXXXXXXXXXXXXXXXXXXXXXXXXXXXXXXXXXXXXXXXXXXXXXXXXXXXXXXXXXXXXXXXXXXXXXXXXXXXXXXXXXXXXXXXXXXXXXXXXXXXXXXXXXXXXXXXXXXXXXXXXXXXXXXXXXXXXXXXXXXXXXXXXXXXXXXXXXXXXXXXXXXXXXXXXXXXXXXXXXXXXXXXXXXXXXXXXXXXXXXXXXXXXXXXXXXXXXXXXXXXXXXXXXXXXXXXXXXXXXXXXXXXXXXXXXXXXXXXXXXXXXXXXXXXXXXXXXXXXXXXXXXXXXXXXXXXXXXXXXXXXXXXXXXXXXXXXXXXXXXXXXXXXXXXXXXXXXXXXXXXXXXXXXXXXXXXXXXXXXXXXXXXXXXXXXXXXXXXXXXXXXXXXXXXXXXXXXXXXXXXXXXXXXXXXXXXXXXXXXXXXXXXXXXXXXXXXXXXXXXXXXXXXXXXXXXXXXXXXXXX\n"
     ]
    }
   ],
   "source": [
    "print ('X'*1000)"
   ]
  },
  {
   "cell_type": "markdown",
   "metadata": {},
   "source": [
    "# PART 2"
   ]
  },
  {
   "cell_type": "markdown",
   "metadata": {},
   "source": [
    "#### Importing necessary libraries"
   ]
  },
  {
   "cell_type": "code",
   "execution_count": 56,
   "metadata": {},
   "outputs": [],
   "source": [
    "import numpy\n",
    "import numpy as np\n",
    "import pandas as pd\n",
    "import random\n",
    "import nltk\n",
    "from nltk.stem import WordNetLemmatizer\n",
    "from nltk.chat.util import Chat, reflections\n",
    "from tensorflow.keras.models import Sequential\n",
    "from tensorflow.keras.layers import Activation, Dense, Dropout\n",
    "from tensorflow.keras.activations import relu, softmax\n",
    "from tensorflow.keras.optimizers import SGD\n",
    "from nltk import word_tokenize\n"
   ]
  },
  {
   "cell_type": "markdown",
   "metadata": {},
   "source": [
    "## Importing corpus file"
   ]
  },
  {
   "cell_type": "code",
   "execution_count": 43,
   "metadata": {},
   "outputs": [],
   "source": [
    "import json\n",
    "with open ('GL+Bot.json') as file:\n",
    "    corpus = json.load(file)"
   ]
  },
  {
   "cell_type": "code",
   "execution_count": 44,
   "metadata": {},
   "outputs": [
    {
     "name": "stdout",
     "output_type": "stream",
     "text": [
      "{'intents': [{'tag': 'Intro', 'patterns': ['hi', 'how are you', 'is anyone there', 'hello', 'whats up', 'hey', 'yo', 'listen', 'please help me', 'i am learner from', 'i belong to', 'aiml batch', 'aifl batch', 'i am from', 'my pm is', 'blended', 'online', 'i am from', 'hey ya', 'talking to you for first time'], 'responses': ['Hello! how can i help you ?'], 'context_set': ''}, {'tag': 'Exit', 'patterns': ['thank you', 'thanks', 'cya', 'see you', 'later', 'see you later', 'goodbye', 'i am leaving', 'have a Good day', 'you helped me', 'thanks a lot', 'thanks a ton', 'you are the best', 'great help', 'too good', 'you are a good learning buddy'], 'responses': ['I hope I was able to assist you, Good Bye'], 'context_set': ''}, {'tag': 'Olympus', 'patterns': ['olympus', 'explain me how olympus works', 'I am not able to understand olympus', 'olympus window not working', 'no access to olympus', 'unable to see link in olympus', 'no link visible on olympus', 'whom to contact for olympus', 'lot of problem with olympus', 'olypus is not a good tool', 'lot of problems with olympus', 'how to use olympus', 'teach me olympus'], 'responses': [\"Please raise a ticket and we'll get back to you https://olympus1.mygreatlearning.com/program_support?pb_id=8058\"], 'context_set': ''}, {'tag': 'SL', 'patterns': ['i am not able to understand svm', 'explain me how machine learning works', 'i am not able to understand naive bayes', 'i am not able to understand logistic regression', 'i am not able to understand ensemble techb=niques', 'i am not able to understand knn', 'i am not able to understand knn imputer', 'i am not able to understand cross validation', 'i am not able to understand boosting', 'i am not able to understand random forest', 'i am not able to understand ada boosting', 'i am not able to understand gradient boosting', 'machine learning', 'ML', 'SL', 'supervised learning', 'knn', 'logistic regression', 'regression', 'classification', 'naive bayes', 'nb', 'ensemble techniques', 'bagging', 'boosting', 'ada boosting', 'ada', 'gradient boosting', 'hyper parameters'], 'responses': ['I hope this link will help you : https://en.wikipedia.org/wiki/Machine_learning'], 'context_set': ''}, {'tag': 'NN', 'patterns': ['what is deep learning', 'unable to understand deep learning', 'explain me how deep learning works', 'i am not able to understand deep learning', 'not able to understand neural nets', 'very diffult to understand neural nets', 'unable to understand neural nets', 'ann', 'artificial intelligence', 'artificial neural networks', 'weights', 'activation function', 'hidden layers', 'softmax', 'sigmoid', 'relu', 'otimizer', 'forward propagation', 'backward propagation', 'epochs', 'epoch', 'what is an epoch', 'adam', 'sgd'], 'responses': ['Link: https://en.wikipedia.org/wiki/Neural_network'], 'context_set': ''}, {'tag': 'Bot', 'patterns': ['what is your name', 'who are you', 'name please', 'when are your hours of opertions', 'what are your working hours', 'hours of operation', 'working hours', 'hours'], 'responses': ['I am your virtual learning assistant created by Yashank Chopra'], 'context_set': ''}, {'tag': 'Profane', 'patterns': ['what the hell', 'bloody stupid bot', 'do you think you are very smart', 'screw you', 'i hate you', 'you are stupid', 'jerk', 'you are a joke', 'useless piece of shit'], 'responses': ['Please use respectful words'], 'context_set': ''}, {'tag': 'Ticket', 'patterns': ['my problem is not solved', 'you did not help me', 'not a good solution', 'bad solution', 'not good solution', 'no help', 'wasted my time', 'useless bot', 'create a ticket'], 'responses': ['Tarnsferring the request to your PM'], 'context_set': ''}]}\n"
     ]
    }
   ],
   "source": [
    "print(corpus)"
   ]
  },
  {
   "cell_type": "markdown",
   "metadata": {},
   "source": [
    "### Tokenisation"
   ]
  },
  {
   "cell_type": "code",
   "execution_count": 45,
   "metadata": {},
   "outputs": [],
   "source": [
    "words=[]\n",
    "labels=[]\n",
    "doc_x=[]\n",
    "doc_y=[]\n",
    "\n",
    "for intent in corpus['intents']:\n",
    "    for pattern in intent['patterns']:\n",
    "        w_temp = nltk.word_tokenize(pattern)\n",
    "        words.extend(w_temp)\n",
    "        doc_x.append(w_temp)\n",
    "        doc_y.append(intent['tag'])\n",
    "    \n",
    "    if intent['tag'] not in labels:\n",
    "        labels.append(intent['tag'])\n"
   ]
  },
  {
   "cell_type": "markdown",
   "metadata": {},
   "source": [
    "### Stemming"
   ]
  },
  {
   "cell_type": "code",
   "execution_count": 46,
   "metadata": {},
   "outputs": [],
   "source": [
    "lemmatizer = WordNetLemmatizer()\n",
    "words = [lemmatizer.lemmatize(word.lower()) for word in words if word != '?']\n",
    "words = sorted(list(set(words)))\n",
    "labels = sorted(labels)\n",
    "\n",
    "#[lemmatizer.lemmatize(word) for word in words if word not"
   ]
  },
  {
   "cell_type": "code",
   "execution_count": 57,
   "metadata": {},
   "outputs": [
    {
     "name": "stdout",
     "output_type": "stream",
     "text": [
      "     able  access  activation  ada  adam  aifl  aiml  ann  artificial  \\\n",
      "0       0       0           0    0     0     0     0    0           0   \n",
      "1       1       0           0    0     0     0     0    0           0   \n",
      "2       0       1           0    0     0     0     0    0           0   \n",
      "3       0       0           1    0     0     0     0    0           0   \n",
      "4       0       0           0    1     0     0     0    0           0   \n",
      "..    ...     ...         ...  ...   ...   ...   ...  ...         ...   \n",
      "153     0       0           0    0     0     0     0    0           0   \n",
      "154     0       0           0    0     0     0     0    0           0   \n",
      "155     0       0           0    0     0     0     0    0           0   \n",
      "156     0       0           0    0     0     0     0    0           0   \n",
      "157     0       0           0    0     0     0     0    0           0   \n",
      "\n",
      "     backward  ...  validation  visible  wasted  weight  whats  window  work  \\\n",
      "0           0  ...           0        0       0       0      0       0     0   \n",
      "1           0  ...           0        0       0       0      0       0     0   \n",
      "2           0  ...           0        0       0       0      0       0     0   \n",
      "3           0  ...           0        0       0       0      0       0     0   \n",
      "4           0  ...           0        0       0       0      0       0     0   \n",
      "..        ...  ...         ...      ...     ...     ...    ...     ...   ...   \n",
      "153         0  ...           0        0       0       0      0       0     0   \n",
      "154         0  ...           0        0       0       0      0       0     0   \n",
      "155         0  ...           0        0       0       0      0       0     0   \n",
      "156         0  ...           0        0       0       0      0       0     0   \n",
      "157         0  ...           0        0       0       0      0       0     0   \n",
      "\n",
      "     working  ya  yo  \n",
      "0          0   0   0  \n",
      "1          0   0   0  \n",
      "2          0   0   0  \n",
      "3          0   0   0  \n",
      "4          0   0   0  \n",
      "..       ...  ..  ..  \n",
      "153        1   0   0  \n",
      "154        0   1   0  \n",
      "155        0   0   1  \n",
      "156        0   0   0  \n",
      "157        0   0   0  \n",
      "\n",
      "[158 rows x 123 columns]\n"
     ]
    }
   ],
   "source": [
    "from sklearn.feature_extraction.text import CountVectorizer, TfidfVectorizer\n",
    " \n",
    "CountVec = CountVectorizer(ngram_range=(1,1),\n",
    "                           stop_words='english')\n",
    "\n",
    "Count_data = CountVec.fit_transform(words)\n",
    " \n",
    "cv_dataframe=pd.DataFrame(Count_data.toarray(),columns=CountVec.get_feature_names())\n",
    "print(cv_dataframe)\n",
    "\n",
    "#bag_of_words = vec.transform(corpus)"
   ]
  },
  {
   "cell_type": "markdown",
   "metadata": {},
   "source": [
    "### Defingin bag_of_words "
   ]
  },
  {
   "cell_type": "code",
   "execution_count": 59,
   "metadata": {},
   "outputs": [],
   "source": [
    "def bag_of_words(s,w):\n",
    "    bag = [0 for _ in range(len(words))]\n",
    "    \n",
    "    s_words = nltk.word_tokenize(s)\n",
    "    s_words = [lemmatizer.lemmatize(word.lower()) for word in s_words]\n",
    "    \n",
    "    for se in s_words:\n",
    "        for i,w in enumerate (words):\n",
    "            if w ==se:\n",
    "                bag[i]=1\n",
    "    \n",
    "    x3 = numpy.array(bag)\n",
    "    x3 = x3.reshape(1,158)\n",
    "    return numpy.array(x3)"
   ]
  },
  {
   "cell_type": "markdown",
   "metadata": {},
   "source": [
    "## Defining training and target variables"
   ]
  },
  {
   "cell_type": "code",
   "execution_count": 60,
   "metadata": {},
   "outputs": [],
   "source": [
    "train = []\n",
    "target = []\n",
    "out_empty = [0 for _ in range(len(labels))]\n",
    "\n",
    "for x, doc in enumerate (doc_x):\n",
    "    bag=[]\n",
    "    \n",
    "    w_temp = [lemmatizer.lemmatize(word.lower()) for word in doc]\n",
    "    \n",
    "    for w in words:\n",
    "        if w in w_temp:\n",
    "            bag.append(1)\n",
    "        else:\n",
    "            bag.append(0)\n",
    "    \n",
    "    output_row = out_empty[:]\n",
    "    output_row[labels.index(doc_y[x])] = 1\n",
    "    \n",
    "    train.append(bag)\n",
    "    target.append(output_row)"
   ]
  },
  {
   "cell_type": "markdown",
   "metadata": {},
   "source": [
    "### Building sequential model "
   ]
  },
  {
   "cell_type": "code",
   "execution_count": 61,
   "metadata": {},
   "outputs": [],
   "source": [
    "model = Sequential()\n",
    "model.add(Dense(64, input_dim = len(train[0]), activation = 'relu' ))\n",
    "model.add(Dropout(0.5))\n",
    "model.add(Dense(32, activation = 'relu'))\n",
    "model.add(Dropout(0.5))\n",
    "model.add(Dense(8, activation = 'softmax'))"
   ]
  },
  {
   "cell_type": "markdown",
   "metadata": {},
   "source": [
    "### Building Stochastic Gradient Descent function"
   ]
  },
  {
   "cell_type": "code",
   "execution_count": 62,
   "metadata": {},
   "outputs": [
    {
     "name": "stderr",
     "output_type": "stream",
     "text": [
      "/Users/chopra/opt/anaconda3/lib/python3.8/site-packages/keras/optimizer_v2/gradient_descent.py:102: UserWarning: The `lr` argument is deprecated, use `learning_rate` instead.\n",
      "  super(SGD, self).__init__(name, **kwargs)\n"
     ]
    }
   ],
   "source": [
    "sgd = SGD(lr = 0.01, decay = 1e-6, momentum = 0.9, nesterov = True)\n"
   ]
  },
  {
   "cell_type": "markdown",
   "metadata": {},
   "source": [
    "### Building a compiler"
   ]
  },
  {
   "cell_type": "code",
   "execution_count": 63,
   "metadata": {},
   "outputs": [],
   "source": [
    "model.compile(loss = 'categorical_crossentropy', optimizer = 'sgd', metrics = ['accuracy'])"
   ]
  },
  {
   "cell_type": "markdown",
   "metadata": {},
   "source": [
    "### Fitting the data into the model, running with 200 epochs"
   ]
  },
  {
   "cell_type": "code",
   "execution_count": 64,
   "metadata": {},
   "outputs": [
    {
     "name": "stdout",
     "output_type": "stream",
     "text": [
      "Epoch 1/200\n",
      "128/128 [==============================] - 1s 2ms/step - loss: 2.0617 - accuracy: 0.1484\n",
      "Epoch 2/200\n",
      "128/128 [==============================] - 0s 2ms/step - loss: 2.0244 - accuracy: 0.2266\n",
      "Epoch 3/200\n",
      "128/128 [==============================] - 0s 2ms/step - loss: 1.9707 - accuracy: 0.2812\n",
      "Epoch 4/200\n",
      "128/128 [==============================] - 0s 2ms/step - loss: 1.9416 - accuracy: 0.2422\n",
      "Epoch 5/200\n",
      "128/128 [==============================] - 0s 2ms/step - loss: 1.9139 - accuracy: 0.2734\n",
      "Epoch 6/200\n",
      "128/128 [==============================] - 0s 2ms/step - loss: 1.8755 - accuracy: 0.2734\n",
      "Epoch 7/200\n",
      "128/128 [==============================] - 0s 2ms/step - loss: 1.8515 - accuracy: 0.2891\n",
      "Epoch 8/200\n",
      "128/128 [==============================] - 0s 2ms/step - loss: 1.7966 - accuracy: 0.3672\n",
      "Epoch 9/200\n",
      "128/128 [==============================] - 0s 2ms/step - loss: 1.7080 - accuracy: 0.4297\n",
      "Epoch 10/200\n",
      "128/128 [==============================] - 0s 2ms/step - loss: 1.6628 - accuracy: 0.3906\n",
      "Epoch 11/200\n",
      "128/128 [==============================] - 0s 2ms/step - loss: 1.5887 - accuracy: 0.4297\n",
      "Epoch 12/200\n",
      "128/128 [==============================] - 0s 2ms/step - loss: 1.5753 - accuracy: 0.4609\n",
      "Epoch 13/200\n",
      "128/128 [==============================] - 0s 2ms/step - loss: 1.5250 - accuracy: 0.4609\n",
      "Epoch 14/200\n",
      "128/128 [==============================] - 0s 2ms/step - loss: 1.4917 - accuracy: 0.4688\n",
      "Epoch 15/200\n",
      "128/128 [==============================] - 0s 2ms/step - loss: 1.3431 - accuracy: 0.5312\n",
      "Epoch 16/200\n",
      "128/128 [==============================] - 0s 2ms/step - loss: 1.3693 - accuracy: 0.5469\n",
      "Epoch 17/200\n",
      "128/128 [==============================] - 0s 2ms/step - loss: 1.3535 - accuracy: 0.5938\n",
      "Epoch 18/200\n",
      "128/128 [==============================] - 0s 2ms/step - loss: 1.2912 - accuracy: 0.5391\n",
      "Epoch 19/200\n",
      "128/128 [==============================] - 0s 2ms/step - loss: 1.2252 - accuracy: 0.5703\n",
      "Epoch 20/200\n",
      "128/128 [==============================] - 0s 2ms/step - loss: 1.2136 - accuracy: 0.5859\n",
      "Epoch 21/200\n",
      "128/128 [==============================] - 0s 2ms/step - loss: 1.1825 - accuracy: 0.6016\n",
      "Epoch 22/200\n",
      "128/128 [==============================] - 0s 2ms/step - loss: 1.0419 - accuracy: 0.6641\n",
      "Epoch 23/200\n",
      "128/128 [==============================] - 0s 2ms/step - loss: 1.1486 - accuracy: 0.5859\n",
      "Epoch 24/200\n",
      "128/128 [==============================] - 0s 2ms/step - loss: 1.0504 - accuracy: 0.6562\n",
      "Epoch 25/200\n",
      "128/128 [==============================] - 0s 2ms/step - loss: 0.9151 - accuracy: 0.7344\n",
      "Epoch 26/200\n",
      "128/128 [==============================] - 0s 2ms/step - loss: 1.0276 - accuracy: 0.6641\n",
      "Epoch 27/200\n",
      "128/128 [==============================] - 0s 2ms/step - loss: 0.9367 - accuracy: 0.6875\n",
      "Epoch 28/200\n",
      "128/128 [==============================] - 0s 2ms/step - loss: 0.9917 - accuracy: 0.6875\n",
      "Epoch 29/200\n",
      "128/128 [==============================] - 0s 2ms/step - loss: 0.8219 - accuracy: 0.7188\n",
      "Epoch 30/200\n",
      "128/128 [==============================] - 0s 2ms/step - loss: 0.7666 - accuracy: 0.7500\n",
      "Epoch 31/200\n",
      "128/128 [==============================] - 0s 2ms/step - loss: 0.7786 - accuracy: 0.7266\n",
      "Epoch 32/200\n",
      "128/128 [==============================] - 0s 2ms/step - loss: 0.8996 - accuracy: 0.6953\n",
      "Epoch 33/200\n",
      "128/128 [==============================] - 0s 2ms/step - loss: 0.7574 - accuracy: 0.7500\n",
      "Epoch 34/200\n",
      "128/128 [==============================] - 0s 2ms/step - loss: 0.7427 - accuracy: 0.7188\n",
      "Epoch 35/200\n",
      "128/128 [==============================] - 0s 2ms/step - loss: 0.7490 - accuracy: 0.7422\n",
      "Epoch 36/200\n",
      "128/128 [==============================] - 0s 2ms/step - loss: 0.7078 - accuracy: 0.7734\n",
      "Epoch 37/200\n",
      "128/128 [==============================] - 0s 2ms/step - loss: 0.6368 - accuracy: 0.7969\n",
      "Epoch 38/200\n",
      "128/128 [==============================] - 0s 2ms/step - loss: 0.6300 - accuracy: 0.7969\n",
      "Epoch 39/200\n",
      "128/128 [==============================] - 0s 2ms/step - loss: 0.6958 - accuracy: 0.7344\n",
      "Epoch 40/200\n",
      "128/128 [==============================] - 0s 2ms/step - loss: 0.4897 - accuracy: 0.8594\n",
      "Epoch 41/200\n",
      "128/128 [==============================] - 0s 2ms/step - loss: 0.5313 - accuracy: 0.8125\n",
      "Epoch 42/200\n",
      "128/128 [==============================] - 0s 2ms/step - loss: 0.6652 - accuracy: 0.7891\n",
      "Epoch 43/200\n",
      "128/128 [==============================] - 0s 2ms/step - loss: 0.5466 - accuracy: 0.8203\n",
      "Epoch 44/200\n",
      "128/128 [==============================] - 0s 2ms/step - loss: 0.4388 - accuracy: 0.8750\n",
      "Epoch 45/200\n",
      "128/128 [==============================] - 0s 2ms/step - loss: 0.4405 - accuracy: 0.8828\n",
      "Epoch 46/200\n",
      "128/128 [==============================] - 0s 2ms/step - loss: 0.4833 - accuracy: 0.8750\n",
      "Epoch 47/200\n",
      "128/128 [==============================] - 0s 2ms/step - loss: 0.4585 - accuracy: 0.8828\n",
      "Epoch 48/200\n",
      "128/128 [==============================] - 0s 2ms/step - loss: 0.4105 - accuracy: 0.8750\n",
      "Epoch 49/200\n",
      "128/128 [==============================] - 0s 2ms/step - loss: 0.5961 - accuracy: 0.7891\n",
      "Epoch 50/200\n",
      "128/128 [==============================] - 0s 2ms/step - loss: 0.4296 - accuracy: 0.8906\n",
      "Epoch 51/200\n",
      "128/128 [==============================] - 0s 2ms/step - loss: 0.4401 - accuracy: 0.8359\n",
      "Epoch 52/200\n",
      "128/128 [==============================] - 0s 2ms/step - loss: 0.4144 - accuracy: 0.8672\n",
      "Epoch 53/200\n",
      "128/128 [==============================] - 0s 2ms/step - loss: 0.3840 - accuracy: 0.9141\n",
      "Epoch 54/200\n",
      "128/128 [==============================] - 0s 2ms/step - loss: 0.3715 - accuracy: 0.8828\n",
      "Epoch 55/200\n",
      "128/128 [==============================] - 0s 2ms/step - loss: 0.3870 - accuracy: 0.9062\n",
      "Epoch 56/200\n",
      "128/128 [==============================] - 0s 2ms/step - loss: 0.3191 - accuracy: 0.9141\n",
      "Epoch 57/200\n",
      "128/128 [==============================] - 0s 2ms/step - loss: 0.2799 - accuracy: 0.9453\n",
      "Epoch 58/200\n",
      "128/128 [==============================] - 0s 2ms/step - loss: 0.3213 - accuracy: 0.9297\n",
      "Epoch 59/200\n",
      "128/128 [==============================] - 0s 2ms/step - loss: 0.3532 - accuracy: 0.8984\n",
      "Epoch 60/200\n",
      "128/128 [==============================] - 0s 2ms/step - loss: 0.3409 - accuracy: 0.8828\n",
      "Epoch 61/200\n",
      "128/128 [==============================] - 0s 2ms/step - loss: 0.3044 - accuracy: 0.9062\n",
      "Epoch 62/200\n",
      "128/128 [==============================] - 0s 2ms/step - loss: 0.3129 - accuracy: 0.9141\n",
      "Epoch 63/200\n",
      "128/128 [==============================] - 0s 2ms/step - loss: 0.3088 - accuracy: 0.8516\n",
      "Epoch 64/200\n",
      "128/128 [==============================] - 0s 3ms/step - loss: 0.2895 - accuracy: 0.9141\n",
      "Epoch 65/200\n",
      "128/128 [==============================] - 0s 3ms/step - loss: 0.3960 - accuracy: 0.8594\n",
      "Epoch 66/200\n",
      "128/128 [==============================] - 0s 2ms/step - loss: 0.2865 - accuracy: 0.8828\n",
      "Epoch 67/200\n",
      "128/128 [==============================] - 0s 2ms/step - loss: 0.2678 - accuracy: 0.9297\n",
      "Epoch 68/200\n",
      "128/128 [==============================] - 0s 3ms/step - loss: 0.3467 - accuracy: 0.8906\n",
      "Epoch 69/200\n",
      "128/128 [==============================] - 0s 2ms/step - loss: 0.2978 - accuracy: 0.9062\n",
      "Epoch 70/200\n",
      "128/128 [==============================] - 0s 2ms/step - loss: 0.2522 - accuracy: 0.9297\n",
      "Epoch 71/200\n",
      "128/128 [==============================] - 0s 2ms/step - loss: 0.2910 - accuracy: 0.9297\n",
      "Epoch 72/200\n",
      "128/128 [==============================] - 0s 2ms/step - loss: 0.2353 - accuracy: 0.9297\n",
      "Epoch 73/200\n",
      "128/128 [==============================] - 0s 2ms/step - loss: 0.2075 - accuracy: 0.9453\n",
      "Epoch 74/200\n",
      "128/128 [==============================] - 0s 2ms/step - loss: 0.2147 - accuracy: 0.9531\n",
      "Epoch 75/200\n",
      "128/128 [==============================] - 0s 2ms/step - loss: 0.2164 - accuracy: 0.9375\n",
      "Epoch 76/200\n",
      "128/128 [==============================] - 0s 2ms/step - loss: 0.2326 - accuracy: 0.8906\n",
      "Epoch 77/200\n",
      "128/128 [==============================] - 0s 2ms/step - loss: 0.2671 - accuracy: 0.9219\n",
      "Epoch 78/200\n",
      "128/128 [==============================] - 0s 2ms/step - loss: 0.2143 - accuracy: 0.9297\n",
      "Epoch 79/200\n",
      "128/128 [==============================] - 0s 2ms/step - loss: 0.2319 - accuracy: 0.9375\n",
      "Epoch 80/200\n",
      "128/128 [==============================] - 0s 2ms/step - loss: 0.2045 - accuracy: 0.9219\n",
      "Epoch 81/200\n",
      "128/128 [==============================] - 0s 2ms/step - loss: 0.2057 - accuracy: 0.9375\n",
      "Epoch 82/200\n",
      "128/128 [==============================] - 0s 2ms/step - loss: 0.2490 - accuracy: 0.9062\n",
      "Epoch 83/200\n",
      "128/128 [==============================] - 0s 2ms/step - loss: 0.2231 - accuracy: 0.9531\n",
      "Epoch 84/200\n",
      "128/128 [==============================] - 0s 2ms/step - loss: 0.1722 - accuracy: 0.9688\n",
      "Epoch 85/200\n",
      "128/128 [==============================] - 0s 2ms/step - loss: 0.2320 - accuracy: 0.9297\n",
      "Epoch 86/200\n",
      "128/128 [==============================] - 0s 2ms/step - loss: 0.2242 - accuracy: 0.9297\n",
      "Epoch 87/200\n",
      "128/128 [==============================] - 0s 2ms/step - loss: 0.2481 - accuracy: 0.9141\n",
      "Epoch 88/200\n",
      "128/128 [==============================] - 0s 2ms/step - loss: 0.1867 - accuracy: 0.9609\n",
      "Epoch 89/200\n",
      "128/128 [==============================] - 0s 2ms/step - loss: 0.2109 - accuracy: 0.9141\n",
      "Epoch 90/200\n",
      "128/128 [==============================] - 0s 2ms/step - loss: 0.2058 - accuracy: 0.9453\n",
      "Epoch 91/200\n",
      "128/128 [==============================] - 0s 2ms/step - loss: 0.2156 - accuracy: 0.9219\n",
      "Epoch 92/200\n",
      "128/128 [==============================] - 0s 2ms/step - loss: 0.1864 - accuracy: 0.9297\n",
      "Epoch 93/200\n",
      "128/128 [==============================] - 0s 2ms/step - loss: 0.1732 - accuracy: 0.9453\n",
      "Epoch 94/200\n",
      "128/128 [==============================] - 0s 2ms/step - loss: 0.1672 - accuracy: 0.9688\n",
      "Epoch 95/200\n",
      "128/128 [==============================] - 0s 3ms/step - loss: 0.2086 - accuracy: 0.9609\n",
      "Epoch 96/200\n",
      "128/128 [==============================] - 0s 2ms/step - loss: 0.1768 - accuracy: 0.9453\n",
      "Epoch 97/200\n",
      "128/128 [==============================] - 0s 2ms/step - loss: 0.1914 - accuracy: 0.9062\n",
      "Epoch 98/200\n",
      "128/128 [==============================] - 0s 2ms/step - loss: 0.2271 - accuracy: 0.9219\n",
      "Epoch 99/200\n",
      "128/128 [==============================] - 0s 2ms/step - loss: 0.1584 - accuracy: 0.9609\n",
      "Epoch 100/200\n",
      "128/128 [==============================] - 0s 2ms/step - loss: 0.1226 - accuracy: 0.9844\n",
      "Epoch 101/200\n",
      "128/128 [==============================] - 0s 2ms/step - loss: 0.1934 - accuracy: 0.9219\n",
      "Epoch 102/200\n",
      "128/128 [==============================] - 0s 2ms/step - loss: 0.1277 - accuracy: 0.9531\n",
      "Epoch 103/200\n",
      "128/128 [==============================] - 0s 2ms/step - loss: 0.1591 - accuracy: 0.9375\n",
      "Epoch 104/200\n",
      "128/128 [==============================] - 0s 2ms/step - loss: 0.1137 - accuracy: 0.9766\n",
      "Epoch 105/200\n",
      "128/128 [==============================] - 0s 2ms/step - loss: 0.2447 - accuracy: 0.9141\n",
      "Epoch 106/200\n",
      "128/128 [==============================] - 0s 2ms/step - loss: 0.1329 - accuracy: 0.9766\n",
      "Epoch 107/200\n",
      "128/128 [==============================] - 0s 2ms/step - loss: 0.1340 - accuracy: 0.9531\n",
      "Epoch 108/200\n",
      "128/128 [==============================] - 0s 2ms/step - loss: 0.1201 - accuracy: 0.9844\n",
      "Epoch 109/200\n",
      "128/128 [==============================] - 0s 2ms/step - loss: 0.1520 - accuracy: 0.9609\n",
      "Epoch 110/200\n",
      "128/128 [==============================] - 0s 2ms/step - loss: 0.1083 - accuracy: 0.9844\n",
      "Epoch 111/200\n",
      "128/128 [==============================] - 0s 2ms/step - loss: 0.0971 - accuracy: 0.9609\n",
      "Epoch 112/200\n",
      "128/128 [==============================] - 0s 2ms/step - loss: 0.1616 - accuracy: 0.9609\n",
      "Epoch 113/200\n",
      "128/128 [==============================] - 0s 2ms/step - loss: 0.1555 - accuracy: 0.9453\n",
      "Epoch 114/200\n",
      "128/128 [==============================] - 0s 2ms/step - loss: 0.2021 - accuracy: 0.9453\n",
      "Epoch 115/200\n",
      "128/128 [==============================] - 0s 2ms/step - loss: 0.1458 - accuracy: 0.9531\n",
      "Epoch 116/200\n",
      "128/128 [==============================] - 0s 2ms/step - loss: 0.2201 - accuracy: 0.9375\n",
      "Epoch 117/200\n",
      "128/128 [==============================] - 0s 2ms/step - loss: 0.1422 - accuracy: 0.9688\n",
      "Epoch 118/200\n",
      "128/128 [==============================] - 0s 2ms/step - loss: 0.1073 - accuracy: 0.9844\n",
      "Epoch 119/200\n",
      "128/128 [==============================] - 0s 2ms/step - loss: 0.1364 - accuracy: 0.9609\n",
      "Epoch 120/200\n",
      "128/128 [==============================] - 0s 2ms/step - loss: 0.1977 - accuracy: 0.9141\n",
      "Epoch 121/200\n",
      "128/128 [==============================] - 0s 2ms/step - loss: 0.1327 - accuracy: 0.9609\n",
      "Epoch 122/200\n",
      "128/128 [==============================] - 0s 2ms/step - loss: 0.1658 - accuracy: 0.9531\n",
      "Epoch 123/200\n",
      "128/128 [==============================] - 0s 2ms/step - loss: 0.1493 - accuracy: 0.9531\n",
      "Epoch 124/200\n",
      "128/128 [==============================] - 0s 2ms/step - loss: 0.1119 - accuracy: 0.9453\n",
      "Epoch 125/200\n",
      "128/128 [==============================] - 0s 2ms/step - loss: 0.1034 - accuracy: 0.9844\n",
      "Epoch 126/200\n",
      "128/128 [==============================] - 0s 2ms/step - loss: 0.1264 - accuracy: 0.9766\n",
      "Epoch 127/200\n",
      "128/128 [==============================] - 0s 2ms/step - loss: 0.0785 - accuracy: 0.9844\n",
      "Epoch 128/200\n",
      "128/128 [==============================] - 0s 2ms/step - loss: 0.1064 - accuracy: 0.9688\n",
      "Epoch 129/200\n",
      "128/128 [==============================] - 0s 2ms/step - loss: 0.0955 - accuracy: 0.9766\n",
      "Epoch 130/200\n",
      "128/128 [==============================] - 0s 2ms/step - loss: 0.1035 - accuracy: 0.9688\n",
      "Epoch 131/200\n",
      "128/128 [==============================] - 0s 2ms/step - loss: 0.1477 - accuracy: 0.9453\n",
      "Epoch 132/200\n",
      "128/128 [==============================] - 0s 2ms/step - loss: 0.1032 - accuracy: 0.9844\n",
      "Epoch 133/200\n",
      "128/128 [==============================] - 0s 2ms/step - loss: 0.0798 - accuracy: 0.9844\n",
      "Epoch 134/200\n",
      "128/128 [==============================] - 0s 2ms/step - loss: 0.1506 - accuracy: 0.9453\n",
      "Epoch 135/200\n",
      "128/128 [==============================] - 0s 2ms/step - loss: 0.1117 - accuracy: 0.9688\n",
      "Epoch 136/200\n",
      "128/128 [==============================] - 0s 2ms/step - loss: 0.1056 - accuracy: 0.9688\n",
      "Epoch 137/200\n",
      "128/128 [==============================] - 0s 2ms/step - loss: 0.1140 - accuracy: 0.9609\n",
      "Epoch 138/200\n",
      "128/128 [==============================] - 0s 2ms/step - loss: 0.0953 - accuracy: 0.9688\n",
      "Epoch 139/200\n",
      "128/128 [==============================] - 0s 2ms/step - loss: 0.1042 - accuracy: 0.9688\n",
      "Epoch 140/200\n",
      "128/128 [==============================] - 0s 2ms/step - loss: 0.1852 - accuracy: 0.9297\n",
      "Epoch 141/200\n",
      "128/128 [==============================] - 0s 2ms/step - loss: 0.0980 - accuracy: 0.9688\n",
      "Epoch 142/200\n",
      "128/128 [==============================] - 0s 2ms/step - loss: 0.0707 - accuracy: 0.9844\n",
      "Epoch 143/200\n",
      "128/128 [==============================] - 0s 2ms/step - loss: 0.0929 - accuracy: 0.9844\n",
      "Epoch 144/200\n",
      "128/128 [==============================] - 0s 2ms/step - loss: 0.0813 - accuracy: 0.9688\n",
      "Epoch 145/200\n",
      "128/128 [==============================] - 0s 2ms/step - loss: 0.1524 - accuracy: 0.9609\n",
      "Epoch 146/200\n",
      "128/128 [==============================] - 0s 2ms/step - loss: 0.0815 - accuracy: 0.9688\n",
      "Epoch 147/200\n",
      "128/128 [==============================] - 0s 2ms/step - loss: 0.1371 - accuracy: 0.9531\n",
      "Epoch 148/200\n",
      "128/128 [==============================] - 0s 3ms/step - loss: 0.0732 - accuracy: 0.9922\n",
      "Epoch 149/200\n",
      "128/128 [==============================] - 0s 3ms/step - loss: 0.1016 - accuracy: 0.9531\n",
      "Epoch 150/200\n",
      "128/128 [==============================] - 0s 3ms/step - loss: 0.1362 - accuracy: 0.9453\n",
      "Epoch 151/200\n",
      "128/128 [==============================] - 0s 3ms/step - loss: 0.0810 - accuracy: 0.9688\n",
      "Epoch 152/200\n",
      "128/128 [==============================] - 0s 2ms/step - loss: 0.1174 - accuracy: 0.9844\n",
      "Epoch 153/200\n",
      "128/128 [==============================] - 0s 2ms/step - loss: 0.1221 - accuracy: 0.9609\n",
      "Epoch 154/200\n",
      "128/128 [==============================] - 0s 2ms/step - loss: 0.1392 - accuracy: 0.9609\n",
      "Epoch 155/200\n",
      "128/128 [==============================] - 0s 2ms/step - loss: 0.0437 - accuracy: 0.9844\n",
      "Epoch 156/200\n",
      "128/128 [==============================] - 0s 2ms/step - loss: 0.1369 - accuracy: 0.9531\n",
      "Epoch 157/200\n",
      "128/128 [==============================] - 0s 2ms/step - loss: 0.0849 - accuracy: 0.9766\n",
      "Epoch 158/200\n",
      "128/128 [==============================] - 0s 2ms/step - loss: 0.1058 - accuracy: 0.9531\n",
      "Epoch 159/200\n",
      "128/128 [==============================] - 0s 2ms/step - loss: 0.1250 - accuracy: 0.9609\n",
      "Epoch 160/200\n",
      "128/128 [==============================] - 0s 2ms/step - loss: 0.1159 - accuracy: 0.9688\n",
      "Epoch 161/200\n",
      "128/128 [==============================] - 0s 2ms/step - loss: 0.0899 - accuracy: 0.9688\n",
      "Epoch 162/200\n",
      "128/128 [==============================] - 0s 2ms/step - loss: 0.0891 - accuracy: 0.9766\n",
      "Epoch 163/200\n",
      "128/128 [==============================] - 0s 2ms/step - loss: 0.1743 - accuracy: 0.9453\n",
      "Epoch 164/200\n",
      "128/128 [==============================] - 0s 2ms/step - loss: 0.0752 - accuracy: 0.9766\n",
      "Epoch 165/200\n",
      "128/128 [==============================] - 0s 2ms/step - loss: 0.1135 - accuracy: 0.9531\n",
      "Epoch 166/200\n",
      "128/128 [==============================] - 0s 2ms/step - loss: 0.0785 - accuracy: 0.9609\n",
      "Epoch 167/200\n",
      "128/128 [==============================] - 0s 2ms/step - loss: 0.0704 - accuracy: 0.9766\n",
      "Epoch 168/200\n",
      "128/128 [==============================] - 0s 2ms/step - loss: 0.0787 - accuracy: 0.9844\n",
      "Epoch 169/200\n",
      "128/128 [==============================] - 0s 2ms/step - loss: 0.0869 - accuracy: 0.9688\n",
      "Epoch 170/200\n",
      "128/128 [==============================] - 0s 2ms/step - loss: 0.1184 - accuracy: 0.9688\n",
      "Epoch 171/200\n",
      "128/128 [==============================] - 0s 2ms/step - loss: 0.1118 - accuracy: 0.9688\n",
      "Epoch 172/200\n",
      "128/128 [==============================] - 0s 2ms/step - loss: 0.0402 - accuracy: 0.9922\n",
      "Epoch 173/200\n",
      "128/128 [==============================] - 0s 2ms/step - loss: 0.1403 - accuracy: 0.9688\n",
      "Epoch 174/200\n",
      "128/128 [==============================] - 0s 2ms/step - loss: 0.1436 - accuracy: 0.9609\n",
      "Epoch 175/200\n",
      "128/128 [==============================] - 0s 2ms/step - loss: 0.0829 - accuracy: 0.9609\n",
      "Epoch 176/200\n",
      "128/128 [==============================] - 0s 2ms/step - loss: 0.0702 - accuracy: 0.9688\n",
      "Epoch 177/200\n",
      "128/128 [==============================] - 0s 2ms/step - loss: 0.0768 - accuracy: 0.9844\n",
      "Epoch 178/200\n",
      "128/128 [==============================] - 0s 2ms/step - loss: 0.1167 - accuracy: 0.9609\n",
      "Epoch 179/200\n",
      "128/128 [==============================] - 0s 2ms/step - loss: 0.0754 - accuracy: 0.9766\n",
      "Epoch 180/200\n",
      "128/128 [==============================] - 0s 2ms/step - loss: 0.0766 - accuracy: 0.9844\n",
      "Epoch 181/200\n",
      "128/128 [==============================] - 0s 2ms/step - loss: 0.1544 - accuracy: 0.9766\n",
      "Epoch 182/200\n",
      "128/128 [==============================] - 0s 2ms/step - loss: 0.0841 - accuracy: 0.9844\n",
      "Epoch 183/200\n",
      "128/128 [==============================] - 0s 2ms/step - loss: 0.1015 - accuracy: 0.9609\n",
      "Epoch 184/200\n",
      "128/128 [==============================] - 0s 2ms/step - loss: 0.1067 - accuracy: 0.9609\n",
      "Epoch 185/200\n",
      "128/128 [==============================] - 0s 2ms/step - loss: 0.1031 - accuracy: 0.9688\n",
      "Epoch 186/200\n",
      "128/128 [==============================] - 0s 2ms/step - loss: 0.0818 - accuracy: 0.9766\n",
      "Epoch 187/200\n",
      "128/128 [==============================] - 0s 2ms/step - loss: 0.1525 - accuracy: 0.9219\n",
      "Epoch 188/200\n",
      "128/128 [==============================] - 0s 2ms/step - loss: 0.0857 - accuracy: 0.9688\n",
      "Epoch 189/200\n",
      "128/128 [==============================] - 0s 2ms/step - loss: 0.1181 - accuracy: 0.9531\n",
      "Epoch 190/200\n",
      "128/128 [==============================] - 0s 2ms/step - loss: 0.1050 - accuracy: 0.9766\n",
      "Epoch 191/200\n",
      "128/128 [==============================] - 0s 2ms/step - loss: 0.1298 - accuracy: 0.9531\n",
      "Epoch 192/200\n",
      "128/128 [==============================] - 0s 2ms/step - loss: 0.0829 - accuracy: 0.9766\n",
      "Epoch 193/200\n",
      "128/128 [==============================] - 0s 2ms/step - loss: 0.0659 - accuracy: 0.9844\n",
      "Epoch 194/200\n",
      "128/128 [==============================] - 0s 2ms/step - loss: 0.0365 - accuracy: 0.9922\n",
      "Epoch 195/200\n",
      "128/128 [==============================] - 0s 3ms/step - loss: 0.0219 - accuracy: 1.0000\n",
      "Epoch 196/200\n",
      "128/128 [==============================] - 0s 2ms/step - loss: 0.0789 - accuracy: 0.9844\n",
      "Epoch 197/200\n",
      "128/128 [==============================] - 0s 2ms/step - loss: 0.0808 - accuracy: 0.9688\n",
      "Epoch 198/200\n",
      "128/128 [==============================] - 0s 2ms/step - loss: 0.1136 - accuracy: 0.9688\n",
      "Epoch 199/200\n",
      "128/128 [==============================] - 0s 2ms/step - loss: 0.0629 - accuracy: 0.9766\n",
      "Epoch 200/200\n",
      "128/128 [==============================] - 0s 2ms/step - loss: 0.0541 - accuracy: 1.0000\n"
     ]
    },
    {
     "data": {
      "text/plain": [
       "<keras.callbacks.History at 0x7fd14d814070>"
      ]
     },
     "execution_count": 64,
     "metadata": {},
     "output_type": "execute_result"
    }
   ],
   "source": [
    "model.fit(np.array(train),np.array(target), epochs = 200, batch_size = 1, verbose = 1)"
   ]
  },
  {
   "cell_type": "code",
   "execution_count": null,
   "metadata": {},
   "outputs": [],
   "source": []
  },
  {
   "cell_type": "markdown",
   "metadata": {},
   "source": [
    "### Defining Chat function, that would initiate the chatbot"
   ]
  },
  {
   "cell_type": "code",
   "execution_count": 65,
   "metadata": {},
   "outputs": [],
   "source": [
    "def chat():\n",
    "    print(\"Chat with ycbot (type bye to quit)\")\n",
    "    print(\"If answer is not right (type:*)\")\n",
    "    while True:\n",
    "        inp = input(\"\\n\\nYou:\")\n",
    "        if inp.lower()==\"*\":\n",
    "            print(\"ycbot: Please rephrase your question\")\n",
    "        if inp.lower()==\"bye\":\n",
    "            print('Have a great learning')\n",
    "            break\n",
    "            \n",
    "        results = model.predict([bag_of_words (inp,words)]) #THIS IS THE PROBLEM LINE \n",
    "        result_index = numpy.argmax(results)\n",
    "        tag = labels[result_index]\n",
    "        \n",
    "        for tg in corpus['intents']:\n",
    "            if tg['tag']==tag:\n",
    "                responses =tg['responses']\n",
    "        print (random.choice(responses))"
   ]
  },
  {
   "cell_type": "markdown",
   "metadata": {},
   "source": [
    "### Using the Chat function, asking several questions and ending the chat with 'bye'"
   ]
  },
  {
   "cell_type": "code",
   "execution_count": 55,
   "metadata": {},
   "outputs": [
    {
     "name": "stdout",
     "output_type": "stream",
     "text": [
      "Chat with ycbot (type bye to quit)\n",
      "If answer is not right (type:*)\n"
     ]
    },
    {
     "name": "stdin",
     "output_type": "stream",
     "text": [
      "\n",
      "\n",
      "You: hello\n"
     ]
    },
    {
     "name": "stdout",
     "output_type": "stream",
     "text": [
      "Hello! how can i help you ?\n"
     ]
    },
    {
     "name": "stdin",
     "output_type": "stream",
     "text": [
      "\n",
      "\n",
      "You: I need help with olympus\n"
     ]
    },
    {
     "name": "stdout",
     "output_type": "stream",
     "text": [
      "Please raise a ticket and we'll get back to you https://olympus1.mygreatlearning.com/program_support?pb_id=8058\n"
     ]
    },
    {
     "name": "stdin",
     "output_type": "stream",
     "text": [
      "\n",
      "\n",
      "You: Please explain Naive Bayes theorem\n"
     ]
    },
    {
     "name": "stdout",
     "output_type": "stream",
     "text": [
      "I hope this link will help you : https://en.wikipedia.org/wiki/Machine_learning\n"
     ]
    },
    {
     "name": "stdin",
     "output_type": "stream",
     "text": [
      "\n",
      "\n",
      "You: knn help\n"
     ]
    },
    {
     "name": "stdout",
     "output_type": "stream",
     "text": [
      "I hope this link will help you : https://en.wikipedia.org/wiki/Machine_learning\n"
     ]
    },
    {
     "name": "stdin",
     "output_type": "stream",
     "text": [
      "\n",
      "\n",
      "You: what is deep learning\n"
     ]
    },
    {
     "name": "stdout",
     "output_type": "stream",
     "text": [
      "Link: https://en.wikipedia.org/wiki/Neural_network\n"
     ]
    },
    {
     "name": "stdin",
     "output_type": "stream",
     "text": [
      "\n",
      "\n",
      "You: explain softmax\n"
     ]
    },
    {
     "name": "stdout",
     "output_type": "stream",
     "text": [
      "Link: https://en.wikipedia.org/wiki/Neural_network\n"
     ]
    },
    {
     "name": "stdin",
     "output_type": "stream",
     "text": [
      "\n",
      "\n",
      "You: what is your name\n"
     ]
    },
    {
     "name": "stdout",
     "output_type": "stream",
     "text": [
      "I am your virtual learning assistant created by Yashank Chopra\n"
     ]
    },
    {
     "name": "stdin",
     "output_type": "stream",
     "text": [
      "\n",
      "\n",
      "You: what the hell\n"
     ]
    },
    {
     "name": "stdout",
     "output_type": "stream",
     "text": [
      "Please use respectful words\n"
     ]
    },
    {
     "name": "stdin",
     "output_type": "stream",
     "text": [
      "\n",
      "\n",
      "You: my problem is not solved\n"
     ]
    },
    {
     "name": "stdout",
     "output_type": "stream",
     "text": [
      "Tarnsferring the request to your PM\n"
     ]
    },
    {
     "name": "stdin",
     "output_type": "stream",
     "text": [
      "\n",
      "\n",
      "You: you helped me\n"
     ]
    },
    {
     "name": "stdout",
     "output_type": "stream",
     "text": [
      "I hope I was able to assist you, Good Bye\n"
     ]
    },
    {
     "name": "stdin",
     "output_type": "stream",
     "text": [
      "\n",
      "\n",
      "You: bye\n"
     ]
    },
    {
     "name": "stdout",
     "output_type": "stream",
     "text": [
      "Have a great learning\n"
     ]
    }
   ],
   "source": [
    "chat()"
   ]
  }
 ],
 "metadata": {
  "kernelspec": {
   "display_name": "Python 3",
   "language": "python",
   "name": "python3"
  },
  "language_info": {
   "codemirror_mode": {
    "name": "ipython",
    "version": 3
   },
   "file_extension": ".py",
   "mimetype": "text/x-python",
   "name": "python",
   "nbconvert_exporter": "python",
   "pygments_lexer": "ipython3",
   "version": "3.8.5"
  }
 },
 "nbformat": 4,
 "nbformat_minor": 4
}
